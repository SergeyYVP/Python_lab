{
 "cells": [
  {
   "cell_type": "markdown",
   "metadata": {},
   "source": [
    "Задание 1.1.\n",
    "1. Дан произвольный список, содержащий только числа. Выведите результат сложения всех чисел больше 10."
   ]
  },
  {
   "cell_type": "code",
   "execution_count": 149,
   "metadata": {},
   "outputs": [
    {
     "data": {
      "text/plain": [
       "196.85721262466527"
      ]
     },
     "execution_count": 149,
     "metadata": {},
     "output_type": "execute_result"
    }
   ],
   "source": [
    "import random\n",
    "# lst_len - произвольная длина списка\n",
    "lst_len = random.randint(10, 30)\n",
    "# произвольный список\n",
    "lst = [random.uniform(0, 20) for x in range(lst_len)]\n",
    "result = sum(x for x in lst if x>10)\n",
    "result"
   ]
  },
  {
   "cell_type": "markdown",
   "metadata": {},
   "source": [
    "Задание 1.2.\n",
    "Пусть задан список, содержащий строки. Выведите все строки, заканчивающиеся буквой r."
   ]
  },
  {
   "cell_type": "code",
   "execution_count": 150,
   "metadata": {},
   "outputs": [
    {
     "name": "stdout",
     "output_type": "stream",
     "text": [
      "bar\n",
      "door\n"
     ]
    }
   ],
   "source": [
    "lst = ['foo', 'bar', 'quick', 'stop', 'door']\n",
    "for word in lst:\n",
    "    if word[-1]=='r':\n",
    "        print(word)"
   ]
  },
  {
   "cell_type": "markdown",
   "metadata": {},
   "source": [
    "Задание 1.3.\n",
    "Сгенерируйте и выведите cлучайную строку размером 6 символов, содержащую только цифры. Строка должна\n",
    "содержать хотя бы одну цифру 3."
   ]
  },
  {
   "cell_type": "code",
   "execution_count": 170,
   "metadata": {},
   "outputs": [
    {
     "data": {
      "text/plain": [
       "'357645'"
      ]
     },
     "execution_count": 170,
     "metadata": {},
     "output_type": "execute_result"
    }
   ],
   "source": [
    "lst_dig = [str(random.randint(0, 9)) for x in range(6)]\n",
    "if '3' not in lst_dig:\n",
    "    lst_dig[random.randint(0, 5)] = '3'\n",
    "result = ''.join(lst_dig)\n",
    "result"
   ]
  },
  {
   "cell_type": "markdown",
   "metadata": {},
   "source": [
    "Задание 1.4.\n",
    "Пусть дана строка произвольной длины. Выведите информацию о том, сколько в ней символов и сколько слов."
   ]
  },
  {
   "cell_type": "code",
   "execution_count": 171,
   "metadata": {},
   "outputs": [
    {
     "name": "stdout",
     "output_type": "stream",
     "text": [
      "Кол-во символов = 43\n",
      "Кол-во слов = 9\n"
     ]
    }
   ],
   "source": [
    "stroke = 'The quick brown fox jumps over the lazy dog'\n",
    "num_words = len(stroke.split())\n",
    "num_symb = len(stroke)\n",
    "print(f'Кол-во символов = {num_symb}\\nКол-во слов = {num_words}')"
   ]
  },
  {
   "cell_type": "markdown",
   "metadata": {},
   "source": [
    "Матрицы-следующее за списками и строками важное понятие. Широко используется в линейной алгебре. Находит свое\n",
    "применение в современных рекомендательных системах и архитектуре нейронных сетей:"
   ]
  },
  {
   "cell_type": "markdown",
   "metadata": {},
   "source": [
    "Задание 2.1. \n",
    "Пусть дана матрица чисел размером NхN. Представьте данную матрицу в виде списка. Выведите результат сложения\n",
    "всех элементов матрицы."
   ]
  },
  {
   "cell_type": "code",
   "execution_count": 172,
   "metadata": {},
   "outputs": [],
   "source": [
    "def mtx_to_list(mtx):\n",
    "    return sum(mtx, [])\n",
    "\n",
    "def mtx_sum(mtx):\n",
    "    return sum(mtx_to_list(mtx))"
   ]
  },
  {
   "cell_type": "code",
   "execution_count": 173,
   "metadata": {},
   "outputs": [
    {
     "data": {
      "text/plain": [
       "[1, 2, 3, 4, 5, 6, 7, 8, 9]"
      ]
     },
     "execution_count": 173,
     "metadata": {},
     "output_type": "execute_result"
    }
   ],
   "source": [
    "#проверка\n",
    "mtx = [[1, 2, 3], [4, 5, 6], [7, 8, 9]]\n",
    "mtx_to_list(mtx)"
   ]
  },
  {
   "cell_type": "code",
   "execution_count": 174,
   "metadata": {},
   "outputs": [
    {
     "data": {
      "text/plain": [
       "45"
      ]
     },
     "execution_count": 174,
     "metadata": {},
     "output_type": "execute_result"
    }
   ],
   "source": [
    "mtx_sum(mtx)"
   ]
  },
  {
   "cell_type": "markdown",
   "metadata": {},
   "source": [
    "Задание 2.2. Пусть дана матрица чисел размером NхM. Найти столбец матрицы с максимальной суммой элементов."
   ]
  },
  {
   "cell_type": "code",
   "execution_count": 114,
   "metadata": {},
   "outputs": [],
   "source": [
    "def max_sum_column(mtx):\n",
    "    column_sum = [sum(x[i] for x in mtx) for i in range(len(mtx[0]))]\n",
    "    #первый столбец имеет индекс 1.\n",
    "    return column_sum.index(max(column_sum)) + 1"
   ]
  },
  {
   "cell_type": "code",
   "execution_count": 119,
   "metadata": {},
   "outputs": [
    {
     "data": {
      "text/plain": [
       "2"
      ]
     },
     "execution_count": 119,
     "metadata": {},
     "output_type": "execute_result"
    }
   ],
   "source": [
    "#проверка\n",
    "mtx = [[1, 2, 3], [4, 5, 6], [7, 8, -9]]\n",
    "max_sum_column(mtx)"
   ]
  },
  {
   "cell_type": "markdown",
   "metadata": {},
   "source": [
    "Работа с динамичными структурами важная часть в имплементации вашего кода в продакшн систему:"
   ]
  },
  {
   "cell_type": "markdown",
   "metadata": {},
   "source": [
    "Задание 3.1.\n",
    "Пусть список студентов представлен в виде структуры [[No, ФИО, Возраст,Группа],[No, ФИО, Возраст, Группа],[No, ФИО,\n",
    "Возраст, Группа]]. Преобразуйте список в словарь вида: {No: [ФИО, Возраст, Группа], No:[....], No: [....]}"
   ]
  },
  {
   "cell_type": "code",
   "execution_count": 178,
   "metadata": {},
   "outputs": [
    {
     "data": {
      "text/plain": [
       "[[1, 'Иванов Иван Иванович', '19', 'А10'],\n",
       " [2, 'Петров Петр Петрович', '20', 'Б11'],\n",
       " [3, 'Васильев Василий Васильевич', '21', 'C12']]"
      ]
     },
     "execution_count": 178,
     "metadata": {},
     "output_type": "execute_result"
    }
   ],
   "source": [
    "stud_lst = [\n",
    "    [1, 'Иванов Иван Иванович', '19', 'А10'], \n",
    "    [2, 'Петров Петр Петрович', '20', 'Б11'], \n",
    "    [3, 'Васильев Василий Васильевич', '21', 'C12'],\n",
    "    ]\n",
    "stud_lst"
   ]
  },
  {
   "cell_type": "code",
   "execution_count": 179,
   "metadata": {},
   "outputs": [
    {
     "data": {
      "text/plain": [
       "{1: ['Иванов Иван Иванович', '19', 'А10'],\n",
       " 2: ['Петров Петр Петрович', '20', 'Б11'],\n",
       " 3: ['Васильев Василий Васильевич', '21', 'C12']}"
      ]
     },
     "execution_count": 179,
     "metadata": {},
     "output_type": "execute_result"
    }
   ],
   "source": [
    "def lst_to_dict(lst):\n",
    "    return {student[0] : student[1:] for student in lst}\n",
    "\n",
    "students_dct = lst_to_dict(stud_lst)\n",
    "students_dct"
   ]
  },
  {
   "cell_type": "markdown",
   "metadata": {},
   "source": [
    "Задание 3.2.\n",
    "Добавьте к задаче No6 для словаря возможность (без преобразования словаря обратно в список) изменить группу\n",
    "студента. Поиск по «ФИО» («ФИО» студента и новый номер группы необходимо ввести с клавиатуры)."
   ]
  },
  {
   "cell_type": "code",
   "execution_count": 180,
   "metadata": {},
   "outputs": [],
   "source": [
    "def change_group(students_dct):\n",
    "    fio = input('Введите ФИО студента, группу которого вы хотите поменять:\\n')\n",
    "    for num, student in students_dct.items():\n",
    "        if student[0].lower() == fio.lower():\n",
    "            group = input('Студент найден, введите новую группу:\\n')\n",
    "            students_dct[num][2] = group\n",
    "            return students_dct\n",
    "    return 'Нет такого студента'"
   ]
  },
  {
   "cell_type": "code",
   "execution_count": 181,
   "metadata": {},
   "outputs": [
    {
     "name": "stdout",
     "output_type": "stream",
     "text": [
      "Введите ФИО студента, группу которого вы хотите поменять:\n",
      "Васильев Василий Васильевич\n",
      "Студент найден, введите новую группу:\n",
      "C13\n"
     ]
    },
    {
     "data": {
      "text/plain": [
       "{1: ['Иванов Иван Иванович', '19', 'А10'],\n",
       " 2: ['Петров Петр Петрович', '20', 'Б11'],\n",
       " 3: ['Васильев Василий Васильевич', '21', 'C13']}"
      ]
     },
     "execution_count": 181,
     "metadata": {},
     "output_type": "execute_result"
    }
   ],
   "source": [
    "change_group(students_dct)"
   ]
  },
  {
   "cell_type": "code",
   "execution_count": 183,
   "metadata": {},
   "outputs": [
    {
     "name": "stdout",
     "output_type": "stream",
     "text": [
      "Введите ФИО студента, группу которого вы хотите поменять:\n",
      "Павлов Павел Павлович\n"
     ]
    },
    {
     "data": {
      "text/plain": [
       "'Нет такого студента'"
      ]
     },
     "execution_count": 183,
     "metadata": {},
     "output_type": "execute_result"
    }
   ],
   "source": [
    "change_group(students_dct)"
   ]
  },
  {
   "cell_type": "markdown",
   "metadata": {},
   "source": [
    "Задание 3.3. \n",
    "Добавьте к задаче No6 для словаря возможность (без преобразования словаря обратно в список) изменить возраст\n",
    "студента."
   ]
  },
  {
   "cell_type": "code",
   "execution_count": 184,
   "metadata": {},
   "outputs": [],
   "source": [
    "def change_age(students_dct):\n",
    "    fio = input('Введите ФИО студента, возраст которого вы хотите поменять:\\n')\n",
    "    for num, student in students_dct.items():\n",
    "        if student[0].lower() == fio.lower():\n",
    "            age = input('Студент найден, введите новый возраст:\\n')\n",
    "            students_dct[num][1] = age\n",
    "            return students_dct\n",
    "    return 'Нет такого студента'"
   ]
  },
  {
   "cell_type": "code",
   "execution_count": 185,
   "metadata": {},
   "outputs": [
    {
     "name": "stdout",
     "output_type": "stream",
     "text": [
      "Введите ФИО студента, возраст которого вы хотите поменять:\n",
      "Петров Петр Петрович\n",
      "Студент найден, введите новый возраст:\n",
      "18\n"
     ]
    },
    {
     "data": {
      "text/plain": [
       "{1: ['Иванов Иван Иванович', '19', 'А10'],\n",
       " 2: ['Петров Петр Петрович', '18', 'Б11'],\n",
       " 3: ['Васильев Василий Васильевич', '21', 'C13']}"
      ]
     },
     "execution_count": 185,
     "metadata": {},
     "output_type": "execute_result"
    }
   ],
   "source": [
    "change_age(students_dct)"
   ]
  },
  {
   "cell_type": "code",
   "execution_count": null,
   "metadata": {},
   "outputs": [],
   "source": []
  },
  {
   "cell_type": "code",
   "execution_count": null,
   "metadata": {},
   "outputs": [],
   "source": []
  },
  {
   "cell_type": "code",
   "execution_count": null,
   "metadata": {},
   "outputs": [],
   "source": []
  }
 ],
 "metadata": {
  "kernelspec": {
   "display_name": "Python 3",
   "language": "python",
   "name": "python3"
  },
  "language_info": {
   "codemirror_mode": {
    "name": "ipython",
    "version": 3
   },
   "file_extension": ".py",
   "mimetype": "text/x-python",
   "name": "python",
   "nbconvert_exporter": "python",
   "pygments_lexer": "ipython3",
   "version": "3.7.0"
  }
 },
 "nbformat": 4,
 "nbformat_minor": 2
}
